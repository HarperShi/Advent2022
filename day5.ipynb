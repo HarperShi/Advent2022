{
 "cells": [
  {
   "cell_type": "code",
   "execution_count": 109,
   "metadata": {},
   "outputs": [
    {
     "name": "stdout",
     "output_type": "stream",
     "text": [
      "9\n"
     ]
    }
   ],
   "source": [
    "import numpy as np\n",
    "\n",
    "#load data\n",
    "with open('day5_1.txt') as f:\n",
    "    num_lines = 0\n",
    "    for line in f:\n",
    "        pass\n",
    "        num_lines+= 1\n",
    "    num_cols = len(line.split())\n",
    "    stack_data = [[] for i in range(num_cols)]\n",
    "\n",
    "with open('day5_1.txt') as f:\n",
    "    flag = 0\n",
    "    for line in f:\n",
    "        flag += 1\n",
    "        if flag == num_lines:\n",
    "            break\n",
    "        else:\n",
    "            for i in range (0,num_cols):\n",
    "                if line[i*4+1:i*4+2] == ' ':\n",
    "                    continue\n",
    "                else:\n",
    "                    stack_data[i].append(line[i*4+1:i*4+2])\n",
    "print(num_cols)\n",
    "\n",
    "with open('day5_2.txt') as f:\n",
    "    move_data = [[] for i in range(3)]\n",
    "    for line in f:\n",
    "        row = line.split(' ')\n",
    "        move_data[0].append(row[1])\n",
    "        move_data[1].append(row[3])\n",
    "        move_data[2].append(row[5])\n"
   ]
  },
  {
   "cell_type": "code",
   "execution_count": 106,
   "metadata": {},
   "outputs": [
    {
     "name": "stdout",
     "output_type": "stream",
     "text": [
      "FWSHSPJWM\n"
     ]
    }
   ],
   "source": [
    "#part1\n",
    "\n",
    "def move_stack(stack_data,move_data):\n",
    "    for i in range(len(move_data[0])):\n",
    "        num_stack = int(move_data[0][i])\n",
    "        move_from = int(move_data[1][i])-1\n",
    "        move_to = int(move_data[2][i])-1\n",
    "        stack2move = list(reversed(stack_data[move_from][:num_stack]))\n",
    "        del stack_data[move_from][:num_stack]\n",
    "        stack_data[move_to] = stack2move + stack_data[move_to]\n",
    "        \n",
    "    \n",
    "    return stack_data\n",
    "\n",
    "def stack_display(stack_data):\n",
    "    stack_list = []\n",
    "    for i in range(len(stack_data)):\n",
    "        stack_list.append(stack_data[i][0])\n",
    "    \n",
    "    return ''.join(stack_list)\n",
    "\n",
    "stack_data= move_stack(stack_data, move_data)\n",
    "stack_list = stack_display(stack_data)\n",
    "print(stack_list)"
   ]
  },
  {
   "cell_type": "code",
   "execution_count": 110,
   "metadata": {},
   "outputs": [
    {
     "name": "stdout",
     "output_type": "stream",
     "text": [
      "PWPWHGFZS\n"
     ]
    }
   ],
   "source": [
    "#part2\n",
    "def move_stack_pro(stack_data,move_data):\n",
    "    for i in range(len(move_data[0])):\n",
    "        num_stack = int(move_data[0][i])\n",
    "        move_from = int(move_data[1][i])-1\n",
    "        move_to = int(move_data[2][i])-1\n",
    "        stack2move = stack_data[move_from][:num_stack]\n",
    "        del stack_data[move_from][:num_stack]\n",
    "        stack_data[move_to] = stack2move + stack_data[move_to]\n",
    "    \n",
    "    return stack_data\n",
    "\n",
    "stack_data= move_stack_pro(stack_data, move_data)\n",
    "stack_list = stack_display(stack_data)\n",
    "print(stack_list)"
   ]
  }
 ],
 "metadata": {
  "kernelspec": {
   "display_name": "Python 3.9.12 ('play.venv': venv)",
   "language": "python",
   "name": "python3"
  },
  "language_info": {
   "codemirror_mode": {
    "name": "ipython",
    "version": 3
   },
   "file_extension": ".py",
   "mimetype": "text/x-python",
   "name": "python",
   "nbconvert_exporter": "python",
   "pygments_lexer": "ipython3",
   "version": "3.9.12"
  },
  "orig_nbformat": 4,
  "vscode": {
   "interpreter": {
    "hash": "98895978008a168d0a6330fe10f35a0f252586b16436864ed012f77343505a1b"
   }
  }
 },
 "nbformat": 4,
 "nbformat_minor": 2
}
