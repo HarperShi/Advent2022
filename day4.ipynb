{
 "cells": [
  {
   "cell_type": "code",
   "execution_count": 24,
   "metadata": {},
   "outputs": [],
   "source": [
    "import numpy as np\n",
    "\n",
    "data_test = [['2-4','2-3','5-7','2-8','6-6','2-6'],['6-8','4-5','7-9','3-7','4-6','4-8']]\n",
    "\n",
    "data = [[],[]]\n",
    "with open('day4.txt') as f:\n",
    "    for line in f:\n",
    "        row = line.split(',')\n",
    "        data[0].append(row[0])\n",
    "        data[1].append(row[1])"
   ]
  },
  {
   "cell_type": "code",
   "execution_count": 27,
   "metadata": {},
   "outputs": [],
   "source": [
    "def range2list(range_data):\n",
    "    list_data = [[],[]]\n",
    "    for i in range(len(range_data[0])):\n",
    "        elf_1_range = range_data[0][i].split('-')\n",
    "        elf_2_range = range_data[1][i].split('-')\n",
    "        list_data[0].append([x for x in range(int(elf_1_range[0]),int(elf_1_range[1])+1)])\n",
    "        list_data[1].append([x for x in range(int(elf_2_range[0]),int(elf_2_range[1])+1)])\n",
    "    \n",
    "    return list_data\n",
    "\n",
    "data = range2list(data)"
   ]
  },
  {
   "cell_type": "code",
   "execution_count": 28,
   "metadata": {},
   "outputs": [
    {
     "name": "stdout",
     "output_type": "stream",
     "text": [
      "444\n"
     ]
    }
   ],
   "source": [
    "#part1\n",
    "def count_fully_contained(data):\n",
    "    count = 0\n",
    "    for i in range(len(data[0])):\n",
    "        elf_1 = set(data[0][i])\n",
    "        elf_2 = set(data[1][i])\n",
    "        if elf_1.issubset(elf_2) or elf_2.issubset(elf_1):\n",
    "            count+=1\n",
    "    \n",
    "    return count\n",
    "\n",
    "count = count_fully_contained(data)\n",
    "print(count)"
   ]
  },
  {
   "cell_type": "code",
   "execution_count": 30,
   "metadata": {},
   "outputs": [
    {
     "name": "stdout",
     "output_type": "stream",
     "text": [
      "801\n"
     ]
    }
   ],
   "source": [
    "#part2\n",
    "def count_overlap(data):\n",
    "    count = 0\n",
    "    for i in range(len(data[0])):\n",
    "        elf_1 = set(data[0][i])\n",
    "        elf_2 = set(data[1][i])\n",
    "        if bool(elf_1 & elf_2):\n",
    "            count+=1\n",
    "    \n",
    "    return count\n",
    "\n",
    "count = count_overlap(data)\n",
    "print(count)"
   ]
  }
 ],
 "metadata": {
  "kernelspec": {
   "display_name": "Python 3.9.12 ('play.venv': venv)",
   "language": "python",
   "name": "python3"
  },
  "language_info": {
   "codemirror_mode": {
    "name": "ipython",
    "version": 3
   },
   "file_extension": ".py",
   "mimetype": "text/x-python",
   "name": "python",
   "nbconvert_exporter": "python",
   "pygments_lexer": "ipython3",
   "version": "3.9.12"
  },
  "orig_nbformat": 4,
  "vscode": {
   "interpreter": {
    "hash": "98895978008a168d0a6330fe10f35a0f252586b16436864ed012f77343505a1b"
   }
  }
 },
 "nbformat": 4,
 "nbformat_minor": 2
}
