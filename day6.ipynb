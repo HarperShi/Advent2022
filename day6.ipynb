{
 "cells": [
  {
   "cell_type": "code",
   "execution_count": 69,
   "metadata": {},
   "outputs": [],
   "source": [
    "data_test = [str('bvwbjplbgvbhsrlpgdmjqwftvncz'),str('nppdvjthqldpwncqszvftbrmjlhg'),str('nznrnfrfntjfmvfwmzdfjlvtqnbhcprsg'),str('zcfzfwzzqfrljwzlrfnpqdbhtmscgvjw')]\n",
    "\n",
    "with open('day6.txt') as f:\n",
    "    data = f.read()\n"
   ]
  },
  {
   "cell_type": "code",
   "execution_count": 71,
   "metadata": {},
   "outputs": [],
   "source": [
    "#part1\n",
    "def marker_where(data):\n",
    "    marker_after = 0\n",
    "    for i in range(len(data)-4+1):\n",
    "        if len(data[i:i+4]) != len(set(data[i:i+4])):\n",
    "            continue\n",
    "        else:\n",
    "            marker_after = i+4\n",
    "            #print('notice---i=',i)\n",
    "            #print('marker is ',data[i:i+4])\n",
    "            break\n",
    "    return marker_after\n"
   ]
  },
  {
   "cell_type": "code",
   "execution_count": 63,
   "metadata": {},
   "outputs": [
    {
     "name": "stdout",
     "output_type": "stream",
     "text": [
      "notice---i= 1\n",
      "marker is  vwbj\n",
      "5\n",
      "notice---i= 2\n",
      "marker is  pdvj\n",
      "6\n",
      "notice---i= 6\n",
      "marker is  rfnt\n",
      "10\n",
      "notice---i= 7\n",
      "marker is  zqfr\n",
      "11\n"
     ]
    }
   ],
   "source": [
    "for item in data_test:\n",
    "    print(marker_where(str(item)))"
   ]
  },
  {
   "cell_type": "code",
   "execution_count": 72,
   "metadata": {},
   "outputs": [
    {
     "name": "stdout",
     "output_type": "stream",
     "text": [
      "1542\n"
     ]
    }
   ],
   "source": [
    "marker_after = marker_where(data)\n",
    "print(marker_after)"
   ]
  },
  {
   "cell_type": "code",
   "execution_count": 73,
   "metadata": {},
   "outputs": [
    {
     "name": "stdout",
     "output_type": "stream",
     "text": [
      "23\n",
      "23\n",
      "29\n",
      "26\n",
      "3153\n"
     ]
    }
   ],
   "source": [
    "#part2\n",
    "def marker_where_pro(data):\n",
    "    marker_after = 0\n",
    "    for i in range(len(data)-14+1):\n",
    "        if len(data[i:i+14]) != len(set(data[i:i+14])):\n",
    "            continue\n",
    "        else:\n",
    "            marker_after = i+14\n",
    "            #print('notice---i=',i)\n",
    "            #print('marker is ',data[i:i+14])\n",
    "            break\n",
    "    return marker_after\n",
    "\n",
    "for item in data_test:\n",
    "    print(marker_where_pro(str(item)))\n",
    "\n",
    "marker_after = marker_where_pro(data)\n",
    "print(marker_after)"
   ]
  }
 ],
 "metadata": {
  "kernelspec": {
   "display_name": "Python 3.9.12 ('SEvenv': venv)",
   "language": "python",
   "name": "python3"
  },
  "language_info": {
   "codemirror_mode": {
    "name": "ipython",
    "version": 3
   },
   "file_extension": ".py",
   "mimetype": "text/x-python",
   "name": "python",
   "nbconvert_exporter": "python",
   "pygments_lexer": "ipython3",
   "version": "3.9.12"
  },
  "orig_nbformat": 4,
  "vscode": {
   "interpreter": {
    "hash": "31fa4b5db0489f625c5fa0dc9140fe71eb4836e747bdf256df9758129d29cb59"
   }
  }
 },
 "nbformat": 4,
 "nbformat_minor": 2
}
