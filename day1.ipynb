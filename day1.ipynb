{
 "cells": [
  {
   "cell_type": "code",
   "execution_count": 1,
   "metadata": {},
   "outputs": [],
   "source": [
    "import numpy as np\n",
    "\n",
    "data_test = [1000,2000,3000,'',4000,'',5000,6000]\n",
    "\n",
    "file = open(\"day1.txt\", \"r\")\n",
    "\n",
    "data = []\n",
    "\n",
    "with open('day1.txt') as f:\n",
    "    data = f.readlines()"
   ]
  },
  {
   "cell_type": "code",
   "execution_count": 2,
   "metadata": {},
   "outputs": [
    {
     "name": "stdout",
     "output_type": "stream",
     "text": [
      "72718\n"
     ]
    }
   ],
   "source": [
    "def count_energy(data):\n",
    "    count = 0\n",
    "    energy = []\n",
    "    for i,calories in enumerate(data):\n",
    "        if calories == '\\n':\n",
    "            energy.append(count)\n",
    "            count = 0\n",
    "            continue\n",
    "        elif i==(len(data)-1):\n",
    "            count+=int(calories)\n",
    "            energy.append(count)\n",
    "        else:\n",
    "            count+=int(calories)\n",
    "    return energy\n",
    "\n",
    "#part1\n",
    "energy = count_energy(data)\n",
    "print(max(energy))"
   ]
  },
  {
   "cell_type": "code",
   "execution_count": 3,
   "metadata": {},
   "outputs": [
    {
     "name": "stdout",
     "output_type": "stream",
     "text": [
      "213089\n"
     ]
    }
   ],
   "source": [
    "#part2\n",
    "energy_sorted = sorted(energy,reverse = True)\n",
    "total = sum(energy_sorted[0:3])\n",
    "print(total)"
   ]
  }
 ],
 "metadata": {
  "kernelspec": {
   "display_name": "Python 3.9.12 ('play.venv': venv)",
   "language": "python",
   "name": "python3"
  },
  "language_info": {
   "codemirror_mode": {
    "name": "ipython",
    "version": 3
   },
   "file_extension": ".py",
   "mimetype": "text/x-python",
   "name": "python",
   "nbconvert_exporter": "python",
   "pygments_lexer": "ipython3",
   "version": "3.9.12"
  },
  "orig_nbformat": 4,
  "vscode": {
   "interpreter": {
    "hash": "98895978008a168d0a6330fe10f35a0f252586b16436864ed012f77343505a1b"
   }
  }
 },
 "nbformat": 4,
 "nbformat_minor": 2
}
