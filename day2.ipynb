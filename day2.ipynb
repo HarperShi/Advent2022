{
 "cells": [
  {
   "cell_type": "code",
   "execution_count": 19,
   "metadata": {},
   "outputs": [],
   "source": [
    "import numpy as np\n",
    "\n",
    "data_test = [['A','B','C'],['Y','X','Z']]\n",
    "\n",
    "data = [[],[]]\n",
    "with open('day2.txt') as f:\n",
    "    for line in f:\n",
    "        row = line.split()\n",
    "        data[0].append(row[0])\n",
    "        data[1].append(row[1])"
   ]
  },
  {
   "cell_type": "code",
   "execution_count": 9,
   "metadata": {},
   "outputs": [
    {
     "name": "stdout",
     "output_type": "stream",
     "text": [
      "12855\n"
     ]
    }
   ],
   "source": [
    "#part 1\n",
    "def count_score(data):\n",
    "    count = 0\n",
    "    for i in range(len(data[0])):\n",
    "        if data[1][i] == 'X':\n",
    "            count+=1\n",
    "            if data[0][i] == 'A':\n",
    "                count+=3\n",
    "            elif data[0][i] == 'B':\n",
    "                count+=0\n",
    "            elif data[0][i] == 'C':\n",
    "                count+=6\n",
    "        elif data[1][i] == 'Y':\n",
    "            count+=2\n",
    "            if data[0][i] == 'A':\n",
    "                count+=6\n",
    "            elif data[0][i] == 'B':\n",
    "                count+=3\n",
    "            elif data[0][i] == 'C':\n",
    "                count+=0\n",
    "        elif data[1][i] == 'Z':\n",
    "            count+=3\n",
    "            if data[0][i] == 'A':\n",
    "                count+=0\n",
    "            elif data[0][i] == 'B':\n",
    "                count+=6\n",
    "            elif data[0][i] == 'C':\n",
    "                count+=3\n",
    "    return count\n",
    "\n",
    "count = count_score(data)\n",
    "print(count)\n"
   ]
  },
  {
   "cell_type": "code",
   "execution_count": 21,
   "metadata": {},
   "outputs": [
    {
     "name": "stdout",
     "output_type": "stream",
     "text": [
      "13726\n"
     ]
    }
   ],
   "source": [
    "#part 2\n",
    "def count_score_2(data):\n",
    "    count = 0\n",
    "    for i in range(len(data[0])):\n",
    "        if data[0][i] == 'A':#rock\n",
    "            if data[1][i] == 'X': #lose, me = scissors3\n",
    "                count+=0\n",
    "                count+=3\n",
    "            elif data[1][i] == 'Y': #draw, me = rock1\n",
    "                count+=3\n",
    "                count+=1\n",
    "            elif data[1][i] == 'Z': #win, me = paper2\n",
    "                count+=6\n",
    "                count+=2\n",
    "        elif data[0][i] == 'B':#paper\n",
    "            if data[1][i] == 'X': #lose, me = rock1\n",
    "                count+=0\n",
    "                count+=1\n",
    "            elif data[1][i] == 'Y': #draw, me = paper2\n",
    "                count+=3\n",
    "                count+=2\n",
    "            elif data[1][i] == 'Z': #win, me = scissors3\n",
    "                count+=6\n",
    "                count+=3\n",
    "        elif data[0][i] == 'C':#scissors\n",
    "            if data[1][i] == 'X': #lose, me = paper2\n",
    "                count+=0\n",
    "                count+=2\n",
    "            elif data[1][i] == 'Y': #draw, me =scissors3\n",
    "                count+=3\n",
    "                count+=3\n",
    "            elif data[1][i] == 'Z': #win, me = rock1\n",
    "                count+=6\n",
    "                count+=1\n",
    "    \n",
    "    return count\n",
    "\n",
    "count_2 = count_score_2(data)\n",
    "print(count_2)"
   ]
  }
 ],
 "metadata": {
  "kernelspec": {
   "display_name": "Python 3.9.12 ('play.venv': venv)",
   "language": "python",
   "name": "python3"
  },
  "language_info": {
   "codemirror_mode": {
    "name": "ipython",
    "version": 3
   },
   "file_extension": ".py",
   "mimetype": "text/x-python",
   "name": "python",
   "nbconvert_exporter": "python",
   "pygments_lexer": "ipython3",
   "version": "3.9.12"
  },
  "orig_nbformat": 4,
  "vscode": {
   "interpreter": {
    "hash": "98895978008a168d0a6330fe10f35a0f252586b16436864ed012f77343505a1b"
   }
  }
 },
 "nbformat": 4,
 "nbformat_minor": 2
}
