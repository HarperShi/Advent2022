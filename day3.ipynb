{
 "cells": [
  {
   "cell_type": "code",
   "execution_count": 30,
   "metadata": {},
   "outputs": [],
   "source": [
    "import numpy as np\n",
    "import string\n",
    "\n",
    "data_test = [\"vJrwpWtwJgWrhcsFMMfFFhFp\", \"jqHRNqRjqzjGDLGLrsFMfFZSrLrFZsSL\",\"PmmdzqPrVvPwwTWBwg\", \"wMqvLMZHhHMvwLHjbvcjnnSBnvTQFn\", \"ttgJtRGJQctTZtZT\", \"CrZsJsPPZsGzwwsLwLmpwMDw\"]\n",
    "with open('day3.txt') as f:\n",
    "    data = f.read().splitlines() "
   ]
  },
  {
   "cell_type": "code",
   "execution_count": 31,
   "metadata": {},
   "outputs": [],
   "source": [
    "alphabet = []\n",
    "alphabet.extend(string.ascii_lowercase)\n",
    "alphabet.extend(string.ascii_uppercase)\n",
    "\n",
    "dict = {}\n",
    "for i in range (52):\n",
    "    dict[alphabet[i]] = i+1"
   ]
  },
  {
   "cell_type": "code",
   "execution_count": 32,
   "metadata": {},
   "outputs": [
    {
     "name": "stdout",
     "output_type": "stream",
     "text": [
      "7701\n"
     ]
    }
   ],
   "source": [
    "#part1\n",
    "\n",
    "def count_priority(data,dict):\n",
    "    priority_list = []\n",
    "    for rucksack in data:\n",
    "        half_len = round(len(rucksack)/2)\n",
    "        rucksack_1 = rucksack[:half_len]\n",
    "        rucksack_2 = rucksack[-half_len:]\n",
    "        share_item = set(rucksack_1).intersection(rucksack_2)\n",
    "        priority = 0\n",
    "        for item in share_item:\n",
    "            priority += dict[item]\n",
    "        priority_list.append(priority)\n",
    "    return priority_list\n",
    "\n",
    "priority_list = count_priority(data, dict)\n",
    "priority_sum = sum(priority_list)\n",
    "print(priority_sum)\n",
    "        "
   ]
  },
  {
   "cell_type": "code",
   "execution_count": 42,
   "metadata": {},
   "outputs": [
    {
     "name": "stdout",
     "output_type": "stream",
     "text": [
      "2644\n"
     ]
    }
   ],
   "source": [
    "#part2\n",
    "def count_priority_2(data,dict):\n",
    "    priority_list = []\n",
    "    for i in range(0,len(data),3):\n",
    "        share_item = set(data[i]).intersection(data[i+1])\n",
    "        share_item = set(share_item).intersection(data[i+2])\n",
    "        priority = 0\n",
    "        for item in share_item:\n",
    "            priority += dict[item]\n",
    "        priority_list.append(priority)\n",
    "\n",
    "    return priority_list\n",
    "\n",
    "priority_list = count_priority_2(data, dict)\n",
    "priority_sum = sum(priority_list)\n",
    "print(priority_sum)\n",
    "        "
   ]
  },
  {
   "cell_type": "code",
   "execution_count": 34,
   "metadata": {},
   "outputs": [
    {
     "data": {
      "text/plain": [
       "[0, 3, 6]"
      ]
     },
     "execution_count": 34,
     "metadata": {},
     "output_type": "execute_result"
    }
   ],
   "source": [
    "list(range(0,9,3))"
   ]
  }
 ],
 "metadata": {
  "kernelspec": {
   "display_name": "Python 3.9.12 ('play.venv': venv)",
   "language": "python",
   "name": "python3"
  },
  "language_info": {
   "codemirror_mode": {
    "name": "ipython",
    "version": 3
   },
   "file_extension": ".py",
   "mimetype": "text/x-python",
   "name": "python",
   "nbconvert_exporter": "python",
   "pygments_lexer": "ipython3",
   "version": "3.9.12"
  },
  "orig_nbformat": 4,
  "vscode": {
   "interpreter": {
    "hash": "98895978008a168d0a6330fe10f35a0f252586b16436864ed012f77343505a1b"
   }
  }
 },
 "nbformat": 4,
 "nbformat_minor": 2
}
